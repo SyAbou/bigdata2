{
 "cells": [
  {
   "cell_type": "code",
   "execution_count": 1,
   "metadata": {},
   "outputs": [],
   "source": [
    "class DateNaissance:\n",
    "\n",
    "    def __init__(self, jour, mois, annee):\n",
    "        self.jour = jour\n",
    "        self.mois = mois\n",
    "        self.annee = annee\n",
    "\n",
    "    def ToString(self):\n",
    "        return(\"Date de naissance: %02d/%02d/%d\"%(self.jour,self.mois,self.annee))\n",
    "\n",
    "class Personne:\n",
    "\n",
    "    def __init__(self, nom, prenom, doB):\n",
    "        self.nom = nom\n",
    "        self.prenom = prenom\n",
    "        self.doB = doB\n",
    "\n",
    "    def afficher(self):\n",
    "        print(\"Nom:\", self.nom)\n",
    "        print(\"Prenom:\", self.prenom)\n",
    "        print(self.doB.ToString())\n",
    "\n",
    "class Employe(Personne):\n",
    "\n",
    "    def __init__(self, nom, prenom, doB, salaire):\n",
    "        super().__init__(nom, prenom, doB)\n",
    "        self.salaire = salaire\n",
    "\n",
    "    def afficher(self):\n",
    "        super().afficher()\n",
    "        print(round(self.salaire, 2))\n",
    "\n",
    "class Chef(Employe):\n",
    "\n",
    "    def __init__(self, nom, prenom, doB, salaire, service):\n",
    "        super().__init__(nom, prenom, doB, salaire)\n",
    "        self.service = service\n",
    "    \n",
    "    def afficher(self):\n",
    "        super().afficher()\n",
    "        print(self.service)"
   ]
  },
  {
   "cell_type": "code",
   "execution_count": 3,
   "metadata": {},
   "outputs": [
    {
     "name": "stdout",
     "output_type": "stream",
     "text": [
      "Nom: Ilyass\n",
      "Prenom: Math\n",
      "Date de naissance: 01/07/1982\n"
     ]
    }
   ],
   "source": [
    "P=Personne(\"Ilyass\",\"Math\",DateNaissance(1,7,1982))\n",
    "P.afficher()"
   ]
  },
  {
   "cell_type": "code",
   "execution_count": 4,
   "metadata": {},
   "outputs": [
    {
     "name": "stdout",
     "output_type": "stream",
     "text": [
      "Nom: Ilyass\n",
      "Prenom: Math\n",
      "Date de naissance: 01/07/1985\n",
      "7865.55\n"
     ]
    }
   ],
   "source": [
    "E=Employe(\"Ilyass\",\"Math\",DateNaissance(1,7,1985),7865.548)\n",
    "E.afficher()"
   ]
  },
  {
   "cell_type": "code",
   "execution_count": 5,
   "metadata": {},
   "outputs": [
    {
     "name": "stdout",
     "output_type": "stream",
     "text": [
      "Nom: Ilyass\n",
      "Prenom: Math\n",
      "Date de naissance: 01/07/1988\n",
      "7865.55\n",
      "Ressource humaine\n"
     ]
    }
   ],
   "source": [
    "Ch=Chef(\"Ilyass\",\"Math\",DateNaissance(1,7,1988),7865.548,\"Ressource humaine\")\n",
    "Ch.afficher()"
   ]
  },
  {
   "cell_type": "code",
   "execution_count": null,
   "metadata": {},
   "outputs": [],
   "source": []
  },
  {
   "cell_type": "code",
   "execution_count": null,
   "metadata": {},
   "outputs": [],
   "source": []
  }
 ],
 "metadata": {
  "kernelspec": {
   "display_name": "Python 3",
   "language": "python",
   "name": "python3"
  },
  "language_info": {
   "codemirror_mode": {
    "name": "ipython",
    "version": 3
   },
   "file_extension": ".py",
   "mimetype": "text/x-python",
   "name": "python",
   "nbconvert_exporter": "python",
   "pygments_lexer": "ipython3",
   "version": "3.6.5"
  }
 },
 "nbformat": 4,
 "nbformat_minor": 4
}
