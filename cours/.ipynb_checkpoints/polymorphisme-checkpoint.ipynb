{
 "cells": [
  {
   "cell_type": "code",
   "execution_count": 1,
   "metadata": {},
   "outputs": [],
   "source": [
    "class Courrier:\n",
    "\n",
    "    def __init__(self, adrD, adrE, modeExpe, poids):\n",
    "        self.poids=poids\n",
    "        self.modeExpe=modeExpe\n",
    "        self.adrD=adrD\n",
    "        self.adrE=adrE\n",
    "\n",
    "    def ToString(self):\n",
    "        print(\"Adresse destination: %s \\nAdresse d'expedition: %s\\nPoids: %.2f grammes\\nMode: %s \"%(self.adrD, self.adrE, self.poids, self.modeExpe))        \n",
    "\n",
    "class Lettre(Courrier):\n",
    "\n",
    "    def __init__(self, adrD, adrE, poids, modeExpe, taille):\n",
    "        Courrier.__init__(self, adrD, adrE, modeExpe, poids)\n",
    "        self.taille=taille\n",
    "        self.poids = poids\n",
    "        self.modeExpe = modeExpe\n",
    "        self.adrD = adrD\n",
    "        self.adrE = adrE\n",
    "\n",
    "    def calculTimbre(self):\n",
    "        if self.taille == \"A4\": tarifBase = 2.5\n",
    "        if self.taille == \"A3\": tarifBase = 3.5\n",
    "\n",
    "        montant = tarifBase*self.poids /1000\n",
    "         \n",
    "        if self.modeExpe == \"expresse\": montant *= 2\n",
    "        return montant\n",
    "\n",
    "    def ToString(self):\n",
    "        print(\"Lettre:\")\n",
    "        Courrier.ToString(self)\n",
    "        print(\"Format: %s\\nPrix du timbre: %.2f€\"%(self.taille, self.calculTimbre()))\n",
    "\n",
    "class Colis(Courrier):\n",
    "\n",
    "    def __init__(self, adrD, adrE, poids, modeExpe, volume):\n",
    "        Courrier.__init__(self, adrD, adrE, modeExpe, poids)\n",
    "        self.volume=volume\n",
    "        self.poids = poids\n",
    "        self.modeExpe = modeExpe\n",
    "        self.adrD = adrD\n",
    "        self.adrE = adrE\n",
    "\n",
    "    def calculTimbre(self):\n",
    "\n",
    "        montant = 0.25*self.volume*self.poids /1000\n",
    "         \n",
    "        if self.modeExpe == \"expresse\": montant *= 2\n",
    "        return montant\n",
    "\n",
    "    def ToString(self):\n",
    "        print(\"Colis:\")\n",
    "        Courrier.ToString(self)\n",
    "        print(\"Volume: %.2f litres\\nPrix du timbre: %.2f\"%(self.volume, self.calculTimbre()))\n",
    "\n"
   ]
  },
  {
   "cell_type": "code",
   "execution_count": 2,
   "metadata": {},
   "outputs": [
    {
     "name": "stdout",
     "output_type": "stream",
     "text": [
      "Lettre:\n",
      "Adresse destination: Lille \n",
      "Adresse d'expedition: Paris\n",
      "Poids: 80.00 grammes\n",
      "Mode: normal \n",
      "Format: A4\n",
      "Prix du timbre: 0.20€\n"
     ]
    }
   ],
   "source": [
    "L1=Lettre(\"Lille\",\"Paris\",80,\"normal\",\"A4\")\n",
    "L1.ToString()"
   ]
  },
  {
   "cell_type": "code",
   "execution_count": 3,
   "metadata": {},
   "outputs": [
    {
     "name": "stdout",
     "output_type": "stream",
     "text": [
      "Colis:\n",
      "Adresse destination: Marrakeche \n",
      "Adresse d'expedition: Barcelone \n",
      "Poids: 3500.00 grammes\n",
      "Mode: expresse \n",
      "Volume: 2.25 litres\n",
      "Prix du timbre: 3.94\n"
     ]
    }
   ],
   "source": [
    "C1=Colis(\"Marrakeche\",\"Barcelone \",3500,\"expresse\",2.25)\n",
    "C1.ToString()"
   ]
  },
  {
   "cell_type": "code",
   "execution_count": null,
   "metadata": {},
   "outputs": [],
   "source": []
  }
 ],
 "metadata": {
  "kernelspec": {
   "display_name": "Python 3",
   "language": "python",
   "name": "python3"
  },
  "language_info": {
   "codemirror_mode": {
    "name": "ipython",
    "version": 3
   },
   "file_extension": ".py",
   "mimetype": "text/x-python",
   "name": "python",
   "nbconvert_exporter": "python",
   "pygments_lexer": "ipython3",
   "version": "3.6.5"
  }
 },
 "nbformat": 4,
 "nbformat_minor": 4
}
