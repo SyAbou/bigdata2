{
 "cells": [
  {
   "cell_type": "code",
   "execution_count": 9,
   "metadata": {},
   "outputs": [],
   "source": [
    "class CompteBancaire:\n",
    "\n",
    "    def __init__(self, name=\"Dupont\", solde=1000):\n",
    "        self.name = name\n",
    "        self.solde = solde\n",
    "\n",
    "    def affiche(self):\n",
    "        print(\"Le solde du compte bancaire de \", self.name, \" est de \", self.solde, \".\")\n",
    "\n",
    "    def depot(self, solde):\n",
    "        self.solde += solde\n",
    "\n",
    "    def retrait(self, montant):\n",
    "        self.solde -= montant"
   ]
  },
  {
   "cell_type": "code",
   "execution_count": 10,
   "metadata": {},
   "outputs": [
    {
     "name": "stdout",
     "output_type": "stream",
     "text": [
      "Le solde du compte bancaire de  Duchmol  est de  950 .\n"
     ]
    }
   ],
   "source": [
    "compte1 = CompteBancaire(\"Duchmol\", 800)\n",
    "compte1.depot(350)\n",
    "compte1.retrait(200)\n",
    "compte1.affiche()"
   ]
  },
  {
   "cell_type": "code",
   "execution_count": 11,
   "metadata": {},
   "outputs": [
    {
     "name": "stdout",
     "output_type": "stream",
     "text": [
      "Le solde du compte bancaire de  Dupont  est de  1025 .\n"
     ]
    }
   ],
   "source": [
    "compte2 = CompteBancaire()\n",
    "compte2.depot(25)\n",
    "compte2.affiche()"
   ]
  },
  {
   "cell_type": "code",
   "execution_count": 12,
   "metadata": {},
   "outputs": [],
   "source": [
    "class Point:\n",
    "\n",
    "    def __init__(self, x, y, z = None):\n",
    "        self.x = x\n",
    "        self.y = y\n",
    "        self.z = z\n",
    "\n",
    "    def ToString(self):\n",
    "        if self.z is not None:\n",
    "            print(\"P(\",\"%.2f\" % self.x,\",\",\"%.2f\" % self.y,\",\",\"%.2f\" % self.z,\")\")\n",
    "        else:\n",
    "            print(\"P(\",\"%.2f\" % self.x,\",\",\"%.2f\" % self.y,\")\")"
   ]
  },
  {
   "cell_type": "code",
   "execution_count": 13,
   "metadata": {},
   "outputs": [
    {
     "name": "stdout",
     "output_type": "stream",
     "text": [
      "P( 2.00 , 3.00 )\n"
     ]
    }
   ],
   "source": [
    "P1=Point(2,3)\n",
    "P1.ToString()"
   ]
  },
  {
   "cell_type": "code",
   "execution_count": 14,
   "metadata": {},
   "outputs": [
    {
     "name": "stdout",
     "output_type": "stream",
     "text": [
      "P( 1.00 , -5.00 , 6.00 )\n"
     ]
    }
   ],
   "source": [
    "P2=Point(1,-5,6)\n",
    "P2.ToString()"
   ]
  },
  {
   "cell_type": "code",
   "execution_count": 15,
   "metadata": {},
   "outputs": [],
   "source": [
    "class DateNaissance:\n",
    "\n",
    "    def __init__(self, jour, mois, annee):\n",
    "        self.jour = jour\n",
    "        self.mois = mois\n",
    "        self.annee = annee\n",
    "\n",
    "    def ToString(self):\n",
    "        return(\"Date de naissance: %02d/%02d/%d\"%(self.jour,self.mois,self.annee))\n",
    "\n",
    "class Personne:\n",
    "\n",
    "    def __init__(self, nom, prenom, doB):\n",
    "        self.nom = nom\n",
    "        self.prenom = prenom\n",
    "        self.doB = doB\n",
    "\n",
    "    def afficher(self):\n",
    "        print(\"Nom:\", self.nom)\n",
    "        print(\"Prenom:\", self.prenom)\n",
    "        print(self.doB.ToString())\n",
    "\n",
    "class Employe(Personne):\n",
    "\n",
    "    def __init__(self, nom, prenom, doB, salaire):\n",
    "        super().__init__(nom, prenom, doB)\n",
    "        self.salaire = salaire\n",
    "\n",
    "    def afficher(self):\n",
    "        super().afficher()\n",
    "        print(round(self.salaire, 2))\n",
    "\n",
    "class Chef(Employe):\n",
    "\n",
    "    def __init__(self, nom, prenom, doB, salaire, service):\n",
    "        super().__init__(nom, prenom, doB, salaire)\n",
    "        self.service = service\n",
    "    \n",
    "    def afficher(self):\n",
    "        super().afficher()\n",
    "        print(self.service)"
   ]
  },
  {
   "cell_type": "code",
   "execution_count": 16,
   "metadata": {},
   "outputs": [
    {
     "name": "stdout",
     "output_type": "stream",
     "text": [
      "Nom: Ilyass\n",
      "Prenom: Math\n",
      "Date de naissance: 01/07/1982\n"
     ]
    }
   ],
   "source": [
    "P=Personne(\"Ilyass\",\"Math\",DateNaissance(1,7,1982))\n",
    "P.afficher()"
   ]
  },
  {
   "cell_type": "code",
   "execution_count": 17,
   "metadata": {},
   "outputs": [
    {
     "name": "stdout",
     "output_type": "stream",
     "text": [
      "Nom: Ilyass\n",
      "Prenom: Math\n",
      "Date de naissance: 01/07/1985\n",
      "7865.55\n"
     ]
    }
   ],
   "source": [
    "E=Employe(\"Ilyass\",\"Math\",DateNaissance(1,7,1985),7865.548)\n",
    "E.afficher()"
   ]
  },
  {
   "cell_type": "code",
   "execution_count": 18,
   "metadata": {},
   "outputs": [
    {
     "name": "stdout",
     "output_type": "stream",
     "text": [
      "Nom: Ilyass\n",
      "Prenom: Math\n",
      "Date de naissance: 01/07/1988\n",
      "7865.55\n",
      "Ressource humaine\n"
     ]
    }
   ],
   "source": [
    "Ch=Chef(\"Ilyass\",\"Math\",DateNaissance(1,7,1988),7865.548,\"Ressource humaine\")\n",
    "Ch.afficher()"
   ]
  },
  {
   "cell_type": "code",
   "execution_count": 19,
   "metadata": {},
   "outputs": [],
   "source": [
    "class Courrier:\n",
    "\n",
    "    def __init__(self, adrD, adrE, modeExpe, poids):\n",
    "        self.poids=poids\n",
    "        self.modeExpe=modeExpe\n",
    "        self.adrD=adrD\n",
    "        self.adrE=adrE\n",
    "\n",
    "    def ToString(self):\n",
    "        print(\"Adresse destination: %s \\nAdresse d'expedition: %s\\nPoids: %.2f grammes\\nMode: %s \"%(self.adrD, self.adrE, self.poids, self.modeExpe))        \n",
    "\n",
    "class Lettre(Courrier):\n",
    "\n",
    "    def __init__(self, adrD, adrE, poids, modeExpe, taille):\n",
    "        Courrier.__init__(self, adrD, adrE, modeExpe, poids)\n",
    "        self.taille=taille\n",
    "        self.poids = poids\n",
    "        self.modeExpe = modeExpe\n",
    "        self.adrD = adrD\n",
    "        self.adrE = adrE\n",
    "\n",
    "    def calculTimbre(self):\n",
    "        if self.taille == \"A4\": tarifBase = 2.5\n",
    "        if self.taille == \"A3\": tarifBase = 3.5\n",
    "\n",
    "        montant = tarifBase*self.poids /1000\n",
    "         \n",
    "        if self.modeExpe == \"expresse\": montant *= 2\n",
    "        return montant\n",
    "\n",
    "    def ToString(self):\n",
    "        print(\"Lettre:\")\n",
    "        Courrier.ToString(self)\n",
    "        print(\"Format: %s\\nPrix du timbre: %.2f€\"%(self.taille, self.calculTimbre()))\n",
    "\n",
    "class Colis(Courrier):\n",
    "\n",
    "    def __init__(self, adrD, adrE, poids, modeExpe, volume):\n",
    "        Courrier.__init__(self, adrD, adrE, modeExpe, poids)\n",
    "        self.volume=volume\n",
    "        self.poids = poids\n",
    "        self.modeExpe = modeExpe\n",
    "        self.adrD = adrD\n",
    "        self.adrE = adrE\n",
    "\n",
    "    def calculTimbre(self):\n",
    "\n",
    "        montant = 0.25*self.volume*self.poids /1000\n",
    "         \n",
    "        if self.modeExpe == \"expresse\": montant *= 2\n",
    "        return montant\n",
    "\n",
    "    def ToString(self):\n",
    "        print(\"Colis:\")\n",
    "        Courrier.ToString(self)\n",
    "        print(\"Volume: %.2f litres\\nPrix du timbre: %.2f\"%(self.volume, self.calculTimbre()))"
   ]
  },
  {
   "cell_type": "code",
   "execution_count": 20,
   "metadata": {},
   "outputs": [
    {
     "name": "stdout",
     "output_type": "stream",
     "text": [
      "Lettre:\n",
      "Adresse destination: Lille \n",
      "Adresse d'expedition: Paris\n",
      "Poids: 80.00 grammes\n",
      "Mode: normal \n",
      "Format: A4\n",
      "Prix du timbre: 0.20€\n"
     ]
    }
   ],
   "source": [
    "L1=Lettre(\"Lille\",\"Paris\",80,\"normal\",\"A4\")\n",
    "L1.ToString()"
   ]
  },
  {
   "cell_type": "code",
   "execution_count": 21,
   "metadata": {},
   "outputs": [
    {
     "name": "stdout",
     "output_type": "stream",
     "text": [
      "Colis:\n",
      "Adresse destination: Marrakeche \n",
      "Adresse d'expedition: Barcelone \n",
      "Poids: 3500.00 grammes\n",
      "Mode: expresse \n",
      "Volume: 2.25 litres\n",
      "Prix du timbre: 3.94\n"
     ]
    }
   ],
   "source": [
    "C1=Colis(\"Marrakeche\",\"Barcelone \",3500,\"expresse\",2.25)\n",
    "C1.ToString()"
   ]
  },
  {
   "cell_type": "code",
   "execution_count": null,
   "metadata": {},
   "outputs": [],
   "source": []
  }
 ],
 "metadata": {
  "kernelspec": {
   "display_name": "Python 3",
   "language": "python",
   "name": "python3"
  },
  "language_info": {
   "codemirror_mode": {
    "name": "ipython",
    "version": 3
   },
   "file_extension": ".py",
   "mimetype": "text/x-python",
   "name": "python",
   "nbconvert_exporter": "python",
   "pygments_lexer": "ipython3",
   "version": "3.6.5"
  }
 },
 "nbformat": 4,
 "nbformat_minor": 4
}
